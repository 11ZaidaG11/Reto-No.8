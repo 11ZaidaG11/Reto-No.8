{
 "cells": [
  {
   "cell_type": "markdown",
   "metadata": {},
   "source": [
    "1. De los retos anteriores selecione 3 funciones y escribalas en forma de lambdas."
   ]
  },
  {
   "cell_type": "markdown",
   "metadata": {},
   "source": [
    "Reto No.4  \n",
    "Realice un programa que lea dos números reales y determine si el primero es múltiplo del segundo."
   ]
  },
  {
   "cell_type": "code",
   "execution_count": null,
   "metadata": {},
   "outputs": [],
   "source": [
    "if __name__ == \"__main__\":\n",
    "    a = float(input(\"Ingrese un numero: \"))\n",
    "    b = float(input(\"Ingrese otro numero: \"))\n",
    "    modulo = (lambda a, b: a % b)(a, b)\n",
    "    if modulo == 0:\n",
    "        print(f\"{a} es multiplo de {b}\")\n",
    "    else:\n",
    "        print(f\"{a} no es multiplo de {b}\")"
   ]
  },
  {
   "cell_type": "markdown",
   "metadata": {},
   "source": [
    "Reto No.6  \n",
    "Imprimir un listado con los números del 1 al 100 cada uno con su respectivo cuadrado."
   ]
  },
  {
   "cell_type": "code",
   "execution_count": null,
   "metadata": {},
   "outputs": [],
   "source": [
    "if __name__ == \"__main__\":\n",
    "    for i in range(1, 101):\n",
    "        cuadrado = (lambda i: i**2)(i)\n",
    "        print(i, \"→\", cuadrado)"
   ]
  },
  {
   "cell_type": "markdown",
   "metadata": {},
   "source": [
    "Reto No.7  \n",
    "Diseñe un programa que muestre las tablas de multiplicar del 1 al 9."
   ]
  },
  {
   "cell_type": "code",
   "execution_count": null,
   "metadata": {},
   "outputs": [],
   "source": [
    "if __name__ == \"__main__\":\n",
    "    for i in range(1, 10): # Numero a multiplicar\n",
    "        print(f\"\\nTabla del {i}\")\n",
    "        for j in range(1,11): # Multiplicador\n",
    "            multiplicacion = (lambda i, j: j * i)(i, j)\n",
    "            print(f\"{i} * {j} = {multiplicacion}\")"
   ]
  },
  {
   "cell_type": "markdown",
   "metadata": {},
   "source": [
    "2. De los retos anteriores selecione 3 funciones y escribalas con argumentos no definidos (*args)."
   ]
  },
  {
   "cell_type": "markdown",
   "metadata": {},
   "source": [
    "Reto No.5  \n",
    "- Una función matemática para calcular el volumen y el área superficial.\n",
    "- Cree dos funciones en python para calcular los valores antes establecidos, al ingresar por teclado `r1`, `r2` y `h`."
   ]
  },
  {
   "cell_type": "code",
   "execution_count": null,
   "metadata": {},
   "outputs": [],
   "source": [
    "import math\n",
    "\n",
    "\n",
    "def calculo_volumen(*arg):\n",
    "  volumen_esfera = (4/3) * math.pi * (radio_esfera**3)\n",
    "  volumen_cono = (1/3) * math.pi * (radio_cono**2) * altura\n",
    "  volumen_total = volumen_esfera + volumen_cono\n",
    "  return volumen_total\n",
    "\n",
    "def calculo_area(*args):\n",
    "  inclinacion = math.sqrt((radio_cono**2) + (altura**2)) # Teorema de pitagoras\n",
    "  area_cono = math.pi * (radio_cono**2) + inclinacion\n",
    "  area_esfera = 4 * math.pi * radio_esfera\n",
    "  area_total = area_cono + area_esfera\n",
    "  return area_total\n",
    "\n",
    "def calculo_total(*args):\n",
    "  volumen = calculo_volumen(radio_esfera, radio_cono, altura)\n",
    "  area = calculo_area(radio_esfera, radio_cono, altura)\n",
    "  return volumen, area\n",
    "\n",
    "if __name__ == \"__main__\":\n",
    "  radio_esfera = float(input(\"Ingrese el radio de la esfera: \"))\n",
    "  radio_cono = float(input(\"Ingrese el radio del cono: \"))\n",
    "  altura = float(input(\"Ingrese la altura del cono: \"))\n",
    "  res_volumen, res_area = calculo_total(radio_esfera, radio_cono, altura)\n",
    "\n",
    "  print(f\"Su volumen es: {res_volumen}\")\n",
    "  print(f\"Su area superficial es: {res_area}\")\n"
   ]
  },
  {
   "cell_type": "markdown",
   "metadata": {},
   "source": [
    "3. Escriba una función recursiva para calcular la operación de la potencia."
   ]
  },
  {
   "cell_type": "code",
   "execution_count": null,
   "metadata": {},
   "outputs": [],
   "source": [
    "def potencia_recursiva(b, e):\n",
    "    if e == 0: # b elevado a 0 = 1\n",
    "        return 1\n",
    "    else:\n",
    "        return b* potencia_recursiva(b, e-1) \n",
    "    # b se multiplica e veces hasta 0 (caso base)\n",
    "\n",
    "if __name__ == \"__main__\":\n",
    "    b = int(input(\"Ingrese la base: \"))\n",
    "    e = int(input(\"Ingrese la potencia: \"))\n",
    "    resultado = potencia_recursiva(b, e)\n",
    "    print(resultado)"
   ]
  },
  {
   "cell_type": "markdown",
   "metadata": {},
   "source": [
    "4. Utilice la siguiente plantilla de code para contar el tiempo: Realice pruebas para calcular fibonacciacci con iteración o con recursión. Determine desde que número de la serie la diferencia de tiempo se vuelve significativa."
   ]
  },
  {
   "cell_type": "code",
   "execution_count": 37,
   "metadata": {},
   "outputs": [
    {
     "name": "stdout",
     "output_type": "stream",
     "text": [
      "En el termino 1788 de la secuencia, la diferencia de tiempo (0.0020101070404052734) se vuelve significativa\n"
     ]
    }
   ],
   "source": [
    "import time\n",
    "\n",
    "\n",
    "def secuencia(termino:int):\n",
    "    fibonacci = [0, 1] # Inicializar la secuencia de fibonacci\n",
    "    for n in range(2, termino):\n",
    "        start_time = time.time()\n",
    "        res = (fibonacci[n-1]) + (fibonacci[n-2]) # F(n) = F(n-1) + F(n-2)\n",
    "        fibonacci.append(res)\n",
    "        end_time = time.time()\n",
    "        timer = end_time - start_time # Mayormente timer = 0\n",
    "\n",
    "        if timer == 0:\n",
    "            pass\n",
    "        else:\n",
    "            return n, timer # El primer termino en que timer es una diferencia significativa\n",
    "        \n",
    "if __name__ == \"__main__\":\n",
    "    termino = int(input(\"¿Hasta que termino de fibonacci quiere llegar?: \")) # Solo funciona con numeros grande ej. 3000\n",
    "    t, tiempo = secuencia(termino)\n",
    "    print(f\"En el termino {t} de la secuencia, la diferencia de tiempo ({tiempo}) se vuelve significativa\")\n"
   ]
  }
 ],
 "metadata": {
  "kernelspec": {
   "display_name": "Python 3",
   "language": "python",
   "name": "python3"
  },
  "language_info": {
   "codemirror_mode": {
    "name": "ipython",
    "version": 3
   },
   "file_extension": ".py",
   "mimetype": "text/x-python",
   "name": "python",
   "nbconvert_exporter": "python",
   "pygments_lexer": "ipython3",
   "version": "3.12.8"
  }
 },
 "nbformat": 4,
 "nbformat_minor": 2
}
